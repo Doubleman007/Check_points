{
 "cells": [
  {
   "cell_type": "code",
   "execution_count": null,
   "id": "dbfd8a85",
   "metadata": {},
   "outputs": [
    {
     "name": "stdout",
     "output_type": "stream",
     "text": [
      "\n",
      "SHOPPING LIST MENU:\n",
      "1. Add Item\n",
      "2. Remove Item\n",
      "3. View Items\n",
      "4. Quit\n"
     ]
    }
   ],
   "source": [
    "# Creating a list to store the shopping items\n",
    "shopping_list = []\n",
    "\n",
    "# Using a while loop to create a menu of options for the user to add, remove, or view items from the list\n",
    "while True:\n",
    "    # showing menu options\n",
    "    print(\"\\nSHOPPING LIST MENU:\")\n",
    "    print(\"1. Add Item\")\n",
    "    print(\"2. Remove Item\")\n",
    "    print(\"3. View Items\")\n",
    "    print(\"4. Quit\")\n",
    "\n",
    "    # Using the input() function to prompt the user to make a selection from the menu.\n",
    "    selection = input(\"Enter your selection (1-4): \")\n",
    "\n",
    "    # Perform actions based on user's choice\n",
    "    if selection == '1':   # This command is to Add items to the shopping_list\n",
    "        if len(shopping_list) < 5:  # This command is to Limit the number of items using range() function\n",
    "            item = input(\"Enter the item to add: \")\n",
    "            shopping_list.append(item)\n",
    "            print(f\"{item} added to the shopping list.\")\n",
    "        else:\n",
    "            print(\"Maximum number of item exceeded. Item cannot be added to shopping list.\")\n",
    "    elif selection == '2':  # This command is to Remove item\n",
    "        item_to_remove = input(\"Enter the item to remove: \")\n",
    "        if item_to_remove in shopping_list:\n",
    "            shopping_list.remove(item_to_remove)\n",
    "            print(f\"{item_to_remove} removed from the shopping list.\")\n",
    "        else:\n",
    "            print(f\"{item_to_remove} cannot be found in the shopping list.\")\n",
    "    elif selection == '3':  # This command is to view items\n",
    "        print(\"Items in the shopping list:\")\n",
    "        for item in shopping_list:\n",
    "            print(\"-\", item)\n",
    "    elif selection == '4':  # This command is to Quit the program\n",
    "        print(\"Exiting the shopping list program. Goodbye!\")\n",
    "        break\n",
    "    else:\n",
    "        print(\"Invalid selection. Please enter a number between 1 and 4.\")\n"
   ]
  },
  {
   "cell_type": "code",
   "execution_count": null,
   "id": "f30cf54f",
   "metadata": {},
   "outputs": [],
   "source": []
  }
 ],
 "metadata": {
  "kernelspec": {
   "display_name": "Python 3 (ipykernel)",
   "language": "python",
   "name": "python3"
  },
  "language_info": {
   "codemirror_mode": {
    "name": "ipython",
    "version": 3
   },
   "file_extension": ".py",
   "mimetype": "text/x-python",
   "name": "python",
   "nbconvert_exporter": "python",
   "pygments_lexer": "ipython3",
   "version": "3.11.5"
  }
 },
 "nbformat": 4,
 "nbformat_minor": 5
}
