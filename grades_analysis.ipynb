{
 "cells": [
  {
   "cell_type": "code",
   "execution_count": 18,
   "id": "133fa1ee",
   "metadata": {},
   "outputs": [],
   "source": [
    "# Create a numpy array called grades\n",
    "import numpy as np\n",
    "grades = np.array([85, 90, 88, 92, 95, 80, 75, 98, 89, 83])"
   ]
  },
  {
   "cell_type": "code",
   "execution_count": 19,
   "id": "ce0ec415",
   "metadata": {},
   "outputs": [
    {
     "data": {
      "text/plain": [
       "87.5"
      ]
     },
     "execution_count": 19,
     "metadata": {},
     "output_type": "execute_result"
    }
   ],
   "source": [
    "# Using the numpy functions to calculate the mean of the grades\n",
    "np.mean(grades)"
   ]
  },
  {
   "cell_type": "code",
   "execution_count": 20,
   "id": "4ab006f2",
   "metadata": {},
   "outputs": [
    {
     "data": {
      "text/plain": [
       "88.5"
      ]
     },
     "execution_count": 20,
     "metadata": {},
     "output_type": "execute_result"
    }
   ],
   "source": [
    "# Using the numpy functions to calculate the median of the grades\n",
    "np.median(grades)"
   ]
  },
  {
   "cell_type": "code",
   "execution_count": 21,
   "id": "e4e3c042",
   "metadata": {},
   "outputs": [
    {
     "data": {
      "text/plain": [
       "6.591661399070799"
      ]
     },
     "execution_count": 21,
     "metadata": {},
     "output_type": "execute_result"
    }
   ],
   "source": [
    "# Using the numpy functions to calculate the standard deviation of the grades\n",
    "np.std(grades1)"
   ]
  },
  {
   "cell_type": "code",
   "execution_count": 22,
   "id": "a295ae6c",
   "metadata": {},
   "outputs": [
    {
     "data": {
      "text/plain": [
       "98"
      ]
     },
     "execution_count": 22,
     "metadata": {},
     "output_type": "execute_result"
    }
   ],
   "source": [
    "# Using the numpy functions to find the maximum of the grades\n",
    "np.max(grades)"
   ]
  },
  {
   "cell_type": "code",
   "execution_count": 23,
   "id": "246ebb8e",
   "metadata": {},
   "outputs": [
    {
     "data": {
      "text/plain": [
       "75"
      ]
     },
     "execution_count": 23,
     "metadata": {},
     "output_type": "execute_result"
    }
   ],
   "source": [
    "# Using the numpy functions to find the minimum of the grades\n",
    "np.min(grades)"
   ]
  },
  {
   "cell_type": "code",
   "execution_count": 24,
   "id": "6b9a387d",
   "metadata": {},
   "outputs": [
    {
     "data": {
      "text/plain": [
       "array([75, 80, 83, 85, 88, 89, 90, 92, 95, 98])"
      ]
     },
     "execution_count": 24,
     "metadata": {},
     "output_type": "execute_result"
    }
   ],
   "source": [
    "# Using the numpy function to sort the grades in ascending order.\n",
    "np.sort(grades)"
   ]
  },
  {
   "cell_type": "code",
   "execution_count": 25,
   "id": "d4425ad9",
   "metadata": {},
   "outputs": [
    {
     "data": {
      "text/plain": [
       "7"
      ]
     },
     "execution_count": 25,
     "metadata": {},
     "output_type": "execute_result"
    }
   ],
   "source": [
    "# Using the numpy function to find the index of the highest grade in the array.\n",
    "np.argmax(grades)"
   ]
  },
  {
   "cell_type": "code",
   "execution_count": 27,
   "id": "9a390e8b",
   "metadata": {},
   "outputs": [
    {
     "data": {
      "text/plain": [
       "3"
      ]
     },
     "execution_count": 27,
     "metadata": {},
     "output_type": "execute_result"
    }
   ],
   "source": [
    "# Using the numpy function to count the number of students who scored above 90.\n",
    "np.count_nonzero(grades > 90)"
   ]
  },
  {
   "cell_type": "code",
   "execution_count": 28,
   "id": "caf7b85b",
   "metadata": {},
   "outputs": [
    {
     "data": {
      "text/plain": [
       "30.0"
      ]
     },
     "execution_count": 28,
     "metadata": {},
     "output_type": "execute_result"
    }
   ],
   "source": [
    "# Using the numpy function to calculate the percentage of students who scored above 90.\n",
    "np.mean(grades > 90) * 100"
   ]
  },
  {
   "cell_type": "code",
   "execution_count": 29,
   "id": "cc2cf370",
   "metadata": {},
   "outputs": [
    {
     "data": {
      "text/plain": [
       "0.0"
      ]
     },
     "execution_count": 29,
     "metadata": {},
     "output_type": "execute_result"
    }
   ],
   "source": [
    "# Using the numpy function to calculate the percentage of students who scored below 75.\n",
    "np.mean(grades < 75) * 100"
   ]
  },
  {
   "cell_type": "code",
   "execution_count": 30,
   "id": "f53a741a",
   "metadata": {},
   "outputs": [],
   "source": [
    "# Using the numpy function to extract all the grades above 90 and put them in a new array called \"high_performers\".\n",
    "high_performers = grades[grades > 90]"
   ]
  },
  {
   "cell_type": "code",
   "execution_count": 31,
   "id": "b8105aa2",
   "metadata": {},
   "outputs": [
    {
     "data": {
      "text/plain": [
       "array([92, 95, 98])"
      ]
     },
     "execution_count": 31,
     "metadata": {},
     "output_type": "execute_result"
    }
   ],
   "source": [
    "high_performers"
   ]
  },
  {
   "cell_type": "code",
   "execution_count": 32,
   "id": "8797bc3e",
   "metadata": {},
   "outputs": [],
   "source": [
    "# Creating a new array called \"passing_grades\" that contains all the grades above 75.\n",
    "passing_grades = grades[grades > 75]"
   ]
  },
  {
   "cell_type": "code",
   "execution_count": 33,
   "id": "2b1f55d5",
   "metadata": {},
   "outputs": [
    {
     "data": {
      "text/plain": [
       "array([85, 90, 88, 92, 95, 80, 98, 89, 83])"
      ]
     },
     "execution_count": 33,
     "metadata": {},
     "output_type": "execute_result"
    }
   ],
   "source": [
    "passing_grades"
   ]
  },
  {
   "cell_type": "code",
   "execution_count": 46,
   "id": "474643aa",
   "metadata": {},
   "outputs": [
    {
     "name": "stdout",
     "output_type": "stream",
     "text": [
      " This is the result for mean of grades = 87.5 \n",
      " This is the result for median of grades = 88.5 \n",
      " This is the result for standard deviation of grades = 6.591661399070799 \n",
      " This is the result for maximum number of grades = 98 \n",
      " This is the result for total number of students with grade above 90 = 3 \n",
      " This is the result for percentage of grades above 90 = 30.0 \n",
      " This is the result for percentage of grades below 75 = 0.0 \n",
      " This is the list of High Performers = [92 95 98] \n",
      " This is the list of Passing Grades = [85 90 88 92 95 80 98 89 83] \n"
     ]
    }
   ],
   "source": [
    "# Printing the result of all the above steps.\n",
    "print( f\" This is the result for mean of grades = {np.mean(grades)} \")\n",
    "print(f\" This is the result for median of grades = {np.median(grades)} \")\n",
    "print(f\" This is the result for standard deviation of grades = {np.std(grades1)} \")\n",
    "print(f\" This is the result for maximum number of grades = {np.max(grades)} \")\n",
    "print(f\" This is the result for total number of students with grade above 90 = {np.count_nonzero(grades > 90)} \")\n",
    "print(f\" This is the result for percentage of grades above 90 = {np.mean(grades > 90) * 100} \")\n",
    "print(f\" This is the result for percentage of grades below 75 = {np.mean(grades < 75) * 100} \")\n",
    "print(f\" This is the list of High Performers = {high_performers} \")\n",
    "print(f\" This is the list of Passing Grades = {passing_grades} \")"
   ]
  },
  {
   "cell_type": "code",
   "execution_count": null,
   "id": "3102526f",
   "metadata": {},
   "outputs": [],
   "source": []
  }
 ],
 "metadata": {
  "kernelspec": {
   "display_name": "Python 3 (ipykernel)",
   "language": "python",
   "name": "python3"
  },
  "language_info": {
   "codemirror_mode": {
    "name": "ipython",
    "version": 3
   },
   "file_extension": ".py",
   "mimetype": "text/x-python",
   "name": "python",
   "nbconvert_exporter": "python",
   "pygments_lexer": "ipython3",
   "version": "3.11.5"
  }
 },
 "nbformat": 4,
 "nbformat_minor": 5
}
