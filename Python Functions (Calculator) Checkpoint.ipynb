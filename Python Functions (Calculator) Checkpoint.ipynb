{
 "cells": [
  {
   "cell_type": "code",
   "execution_count": null,
   "id": "7321f67e",
   "metadata": {},
   "outputs": [
    {
     "name": "stdout",
     "output_type": "stream",
     "text": [
      "Input the first number: 3\n",
      "Arithmetic operations:\n",
      "+ - * / \n",
      "Choose an operation symbol: +\n",
      "Input the second number: 3\n",
      "3.0 + 3.0 = 6.0\n",
      "Do you want to continue with the result as the first number? (yes/no): yes\n",
      "Choose an operation symbol: *\n",
      "Input the second number: 2\n",
      "6.0 * 2.0 = 12.0\n",
      "Do you want to continue with the result as the first number? (yes/no): no\n"
     ]
    }
   ],
   "source": [
    "# Creating a basic mathematical function\n",
    "def addition(x, y):\n",
    "    return x + y\n",
    "\n",
    "def subtraction(x, y):\n",
    "    return x - y\n",
    "\n",
    "def multiplication(x, y):\n",
    "    return x * y\n",
    "\n",
    "def division(x, y):\n",
    "    if y == 0:\n",
    "        return \"Error! Cannot divide by zero.\"\n",
    "    return x / y\n",
    "\n",
    "# Creating a dictionary operations and assigning the functions to their corresponding operation symbols\n",
    "operations = {'+': addition, '-': subtraction, '*': multiplication, '/': division}\n",
    "\n",
    "# Creating a function calculator \n",
    "def calculator():\n",
    "    number1 = float(input(\"Input the first number: \"))\n",
    "\n",
    "# Using a for loop to print the available operation symbols\n",
    "    print(\"Arithmetic operations:\")\n",
    "    for symbol in operations.keys():\n",
    "        print(symbol, end=\" \")\n",
    "    print()\n",
    "\n",
    "# Creating a while loop that will continue to run the program\n",
    "    Continue = True\n",
    "    while Continue:\n",
    "        operations_symbol = input(\"Choose an operation symbol: \")\n",
    "        if operations_symbol not in operations:\n",
    "            print(\"Invalid Arithmetic symbol! Please choose from available symbols.\")\n",
    "            continue\n",
    "\n",
    "# Prompting the user to input the second number\n",
    "        number2 = float(input(\"Input the second number: \"))\n",
    "\n",
    "# Performing a calculation funct that will store the user input\n",
    "        calculation_function = operations[operations_symbol]\n",
    "        answer = calculation_function(number1, number2)\n",
    "        print(f\"{number1} {operations_symbol} {number2} = {answer}\")\n",
    "\n",
    "        selection = input(\"Do you want to continue with the result as the first number? (yes/no): \")\n",
    "        if selection.lower() == 'yes':\n",
    "            number1 = answer\n",
    "        else:\n",
    "            should_continue = False\n",
    "            calculator()  # Start a new calculation\n",
    "\n",
    "calculator()\n"
   ]
  },
  {
   "cell_type": "code",
   "execution_count": null,
   "id": "46c2bdfb",
   "metadata": {},
   "outputs": [],
   "source": []
  }
 ],
 "metadata": {
  "kernelspec": {
   "display_name": "Python 3 (ipykernel)",
   "language": "python",
   "name": "python3"
  },
  "language_info": {
   "codemirror_mode": {
    "name": "ipython",
    "version": 3
   },
   "file_extension": ".py",
   "mimetype": "text/x-python",
   "name": "python",
   "nbconvert_exporter": "python",
   "pygments_lexer": "ipython3",
   "version": "3.11.5"
  }
 },
 "nbformat": 4,
 "nbformat_minor": 5
}
