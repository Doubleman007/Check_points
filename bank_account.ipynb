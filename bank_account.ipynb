{
 "cells": [
  {
   "cell_type": "code",
   "execution_count": 1,
   "id": "f106500f",
   "metadata": {},
   "outputs": [],
   "source": [
    "# Python program to create Bank Account class\n",
    "class Account:\n",
    "    def __init__(self, account_number: str, account_holder: str, account_balance: float): # Instanciate the instance/object attributes\n",
    "        self.balance = 0\n",
    "        print(\"The account is created\")\n",
    "        self.account_number = account_number\n",
    "        self.account_holder = account_holder\n",
    "        self.account_balance = account_balance\n",
    "        \n",
    "        \n",
    "    def deposit(self): # Creating a method to deposit into the account\n",
    "        amount = float(input(\"Enter the amount to deposit: \"))\n",
    "        self.balance = self.balance + amount\n",
    "        print(\"Deposit is successful and the balance in the account is %f\" % self.balance)\n",
    "    \n",
    "    def withdraw(self): # Creating a method to withdraw from the account\n",
    "        amount = float(input(\"Enter the amount to withdraw: \"))\n",
    "        if (self.balance >= amount):\n",
    "            self.balance = self.balance - amount\n",
    "            print (\"The withdraw was successfull and balance is %f\" % self.balance)\n",
    "        else:\n",
    "            print ('Insuficient Balance')\n",
    "            \n",
    "    def check_balance(self): # Creating a method to check the account balance\n",
    "        print (\"Your account balance is %f\" % self.balance)\n",
    "        \n",
    "\n",
    "        "
   ]
  },
  {
   "cell_type": "code",
   "execution_count": 2,
   "id": "a42f8943",
   "metadata": {},
   "outputs": [
    {
     "name": "stdout",
     "output_type": "stream",
     "text": [
      "The account is created\n"
     ]
    }
   ],
   "source": [
    "my_account = Account(\"2192248024\", \"Emmanuel Ben\", 0)"
   ]
  },
  {
   "cell_type": "code",
   "execution_count": 3,
   "id": "35d530ca",
   "metadata": {},
   "outputs": [
    {
     "name": "stdout",
     "output_type": "stream",
     "text": [
      "Enter the amount to deposit: 20000\n",
      "Deposit is successful and the balance in the account is 20000.000000\n"
     ]
    }
   ],
   "source": [
    "my_account.deposit()"
   ]
  },
  {
   "cell_type": "code",
   "execution_count": 4,
   "id": "83e3e5e3",
   "metadata": {},
   "outputs": [
    {
     "name": "stdout",
     "output_type": "stream",
     "text": [
      "Enter the amount to withdraw: 5000\n",
      "The withdraw was successfull and balance is 15000.000000\n"
     ]
    }
   ],
   "source": [
    "my_account.withdraw()"
   ]
  },
  {
   "cell_type": "code",
   "execution_count": 5,
   "id": "beb6b290",
   "metadata": {},
   "outputs": [
    {
     "name": "stdout",
     "output_type": "stream",
     "text": [
      "Enter the amount to withdraw: 5000\n",
      "The withdraw was successfull and balance is 10000.000000\n"
     ]
    }
   ],
   "source": [
    "my_account.withdraw()"
   ]
  },
  {
   "cell_type": "code",
   "execution_count": 6,
   "id": "28abd5b3",
   "metadata": {},
   "outputs": [
    {
     "name": "stdout",
     "output_type": "stream",
     "text": [
      "Your account balance is 10000.000000\n"
     ]
    }
   ],
   "source": [
    "my_account.check_balance()"
   ]
  },
  {
   "cell_type": "code",
   "execution_count": 7,
   "id": "5a6d624b",
   "metadata": {},
   "outputs": [
    {
     "name": "stdout",
     "output_type": "stream",
     "text": [
      "Enter the amount to deposit: 15000\n",
      "Deposit is successful and the balance in the account is 25000.000000\n"
     ]
    }
   ],
   "source": [
    "my_account.deposit()"
   ]
  },
  {
   "cell_type": "code",
   "execution_count": null,
   "id": "30a545d6",
   "metadata": {},
   "outputs": [],
   "source": []
  }
 ],
 "metadata": {
  "kernelspec": {
   "display_name": "Python 3 (ipykernel)",
   "language": "python",
   "name": "python3"
  },
  "language_info": {
   "codemirror_mode": {
    "name": "ipython",
    "version": 3
   },
   "file_extension": ".py",
   "mimetype": "text/x-python",
   "name": "python",
   "nbconvert_exporter": "python",
   "pygments_lexer": "ipython3",
   "version": "3.11.5"
  }
 },
 "nbformat": 4,
 "nbformat_minor": 5
}
